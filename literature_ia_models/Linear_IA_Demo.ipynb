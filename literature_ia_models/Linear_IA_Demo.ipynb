{
 "cells": [
  {
   "cell_type": "code",
   "execution_count": 1,
   "metadata": {},
   "outputs": [],
   "source": [
    "from __future__ import print_function, division\n",
    "import numpy as np\n",
    "import matplotlib.pyplot as plt\n",
    "%matplotlib inline"
   ]
  },
  {
   "cell_type": "code",
   "execution_count": 2,
   "metadata": {},
   "outputs": [],
   "source": [
    "# location to save figures\n",
    "import os\n",
    "cwd = os.getcwd()\n",
    "figure_path = cwd + '/figures/'"
   ]
  },
  {
   "cell_type": "markdown",
   "metadata": {},
   "source": [
    "# (Non)Linear IA Models"
   ]
  },
  {
   "cell_type": "code",
   "execution_count": 3,
   "metadata": {},
   "outputs": [],
   "source": [
    "from intrinsic_alignments.literature_ia_models.linear_alignment_models import LinearAlignmentModel as LA\n",
    "from intrinsic_alignments.literature_ia_models.linear_alignment_models import NonLinearAlignmentModel as NLA"
   ]
  },
  {
   "cell_type": "markdown",
   "metadata": {},
   "source": [
    "## Power Spectrum"
   ]
  },
  {
   "cell_type": "code",
   "execution_count": 4,
   "metadata": {},
   "outputs": [],
   "source": [
    "# instantiate each model\n",
    "# this takes some time\n",
    "la = LA() \n",
    "nla = NLA() "
   ]
  },
  {
   "cell_type": "code",
   "execution_count": 5,
   "metadata": {},
   "outputs": [],
   "source": [
    "# get tabulated power spectrum from each model\n",
    "k_1, pk_1 = la.power_spectrum\n",
    "k_2, pk_2 = nla.power_spectrum"
   ]
  },
  {
   "cell_type": "code",
   "execution_count": 7,
   "metadata": {},
   "outputs": [
    {
     "data": {
      "image/png": "[encoded data removed]",
      "text/plain": [
       "<Figure size 237.6x237.6 with 1 Axes>"
      ]
     },
     "metadata": {
      "needs_background": "light"
     },
     "output_type": "display_data"
    }
   ],
   "source": [
    "# plot the power spectrum for each model\n",
    "fig = plt.figure(figsize=(3.3,3.3))\n",
    "fig.subplots_adjust(left=0.2, right=0.9, bottom=0.2, top=0.9)\n",
    "l1, = plt.plot(k_1, pk_1, '-', color='black')\n",
    "l2, = plt.plot(k_2, pk_2, '--', color='black')\n",
    "plt.yscale('log')\n",
    "plt.xscale('log')\n",
    "plt.ylim([100,50000])\n",
    "plt.xlim([0.001,4])\n",
    "plt.xlabel(r'$k~[h^{-1}~{\\rm Mpc}^{-1}]$')\n",
    "plt.ylabel(r'$P(k)$')\n",
    "plt.legend([l1, l2],['linear', 'non-linear'], frameon=False, loc='lower left', fontsize=10)\n",
    "plt.show()\n",
    "\n",
    "filename = 'power_spectrums.pdf'\n",
    "#fig.savefig(figure_path+filename, dpi=250)"
   ]
  },
  {
   "cell_type": "markdown",
   "metadata": {},
   "source": [
    "## Ellipticity Correlation Functions"
   ]
  },
  {
   "cell_type": "code",
   "execution_count": 8,
   "metadata": {},
   "outputs": [],
   "source": [
    "# define radial bins for correlation functions\n",
    "r = np.logspace(-1,2.2,50)\n",
    "\n",
    "xi_1 = la.ii_plus(r)\n",
    "xi_2 = nla.ii_plus(r)\n",
    "xi_3 = la.ii_cross(r)\n",
    "xi_4 = nla.ii_cross(r)"
   ]
  },
  {
   "cell_type": "code",
   "execution_count": 10,
   "metadata": {},
   "outputs": [
    {
     "data": {
      "image/png": "[encoded data removed]",
      "text/plain": [
       "<Figure size 237.6x237.6 with 1 Axes>"
      ]
     },
     "metadata": {
      "needs_background": "light"
     },
     "output_type": "display_data"
    },
    {
     "data": {
      "image/png": "[encoded data removed]",
      "text/plain": [
       "<Figure size 237.6x237.6 with 1 Axes>"
      ]
     },
     "metadata": {
      "needs_background": "light"
     },
     "output_type": "display_data"
    }
   ],
   "source": [
    "fig = plt.figure(figsize=(3.3,3.3))\n",
    "fig.subplots_adjust(left=0.2, right=0.9, bottom=0.2, top=0.9)\n",
    "l1, = plt.plot(r, xi_1, '-', color='black')\n",
    "l2, = plt.plot(r, xi_2, '--', color='black')\n",
    "plt.yscale('log')\n",
    "plt.xscale('log')\n",
    "plt.ylim([10**(-7),10**(-1)])\n",
    "plt.xlim([0.1,100])\n",
    "plt.xlabel(r'$r~[h~{\\rm Mpc}]$')\n",
    "plt.ylabel(r'$\\xi_{++}$')\n",
    "plt.legend([l1, l2],['LA', 'NLA'], frameon=False, loc='upper right', fontsize=10)\n",
    "plt.show()\n",
    "\n",
    "filename = 'nla_and_la_xi_pp.pdf'\n",
    "#fig.savefig(figure_path+filename, dpi=250)\n",
    "\n",
    "fig = plt.figure(figsize=(3.3,3.3))\n",
    "fig.subplots_adjust(left=0.2, right=0.9, bottom=0.2, top=0.9)\n",
    "l1, = plt.plot(r, xi_3, '-', color='black')\n",
    "l2, = plt.plot(r, xi_4, '--', color='black')\n",
    "# plot the negative component\n",
    "mask = (xi_3<0.0)\n",
    "l3, = plt.plot(r[mask], -1.0*xi_3[mask], '-', color='red')\n",
    "mask = (xi_4<0.0)\n",
    "l4, = plt.plot(r[mask], -1.0*xi_4[mask], '--', color='red')\n",
    "plt.yscale('log')\n",
    "plt.xscale('log')\n",
    "plt.ylim([10**(-8),10**(0)])\n",
    "plt.xlim([0.1,100])\n",
    "plt.xlabel(r'$r~[h~{\\rm Mpc}]$')\n",
    "plt.ylabel(r'$\\xi_{xx}$')\n",
    "plt.legend([l1, l2],['LA', 'NLA'], frameon=False, loc='upper right', fontsize=10)\n",
    "plt.show()\n",
    "\n",
    "filename = 'nla_and_la_xi_cc.pdf'\n",
    "#fig.savefig(figure_path+filename, dpi=250)"
   ]
  },
  {
   "cell_type": "code",
   "execution_count": 13,
   "metadata": {},
   "outputs": [
    {
     "name": "stderr",
     "output_type": "stream",
     "text": [
      "/home/nvanalfen/github_repos/intrinsic_alignments/intrinsic_alignments/literature_ia_models/linear_alignment_models.py:204: IntegrationWarning: The maximum number of subdivisions (50) has been achieved.\n",
      "  If increasing the limit yields no improvement it is advised to analyze \n",
      "  the integrand in order to determine the difficulties.  If the position of a \n",
      "  local difficulty can be determined (singularity, discontinuity) one will \n",
      "  probably gain from splitting up the interval and calling the integrator \n",
      "  on the subranges.  Perhaps a special-purpose integrator should be used.\n",
      "  result[i] = 2.0*integrate.quad(integrand, 0.0, pi_max, args=(rp[i],))[0]\n",
      "/home/nvanalfen/github_repos/intrinsic_alignments/intrinsic_alignments/literature_ia_models/linear_alignment_models.py:204: IntegrationWarning: The occurrence of roundoff error is detected, which prevents \n",
      "  the requested tolerance from being achieved.  The error may be \n",
      "  underestimated.\n",
      "  result[i] = 2.0*integrate.quad(integrand, 0.0, pi_max, args=(rp[i],))[0]\n",
      "/home/nvanalfen/github_repos/intrinsic_alignments/intrinsic_alignments/literature_ia_models/linear_alignment_models.py:244: IntegrationWarning: The maximum number of subdivisions (50) has been achieved.\n",
      "  If increasing the limit yields no improvement it is advised to analyze \n",
      "  the integrand in order to determine the difficulties.  If the position of a \n",
      "  local difficulty can be determined (singularity, discontinuity) one will \n",
      "  probably gain from splitting up the interval and calling the integrator \n",
      "  on the subranges.  Perhaps a special-purpose integrator should be used.\n",
      "  result[i] = 2.0*integrate.quad(integrand, 0.0, pi_max, args=(rp[i],))[0]\n",
      "/home/nvanalfen/github_repos/intrinsic_alignments/intrinsic_alignments/literature_ia_models/linear_alignment_models.py:244: IntegrationWarning: The occurrence of roundoff error is detected, which prevents \n",
      "  the requested tolerance from being achieved.  The error may be \n",
      "  underestimated.\n",
      "  result[i] = 2.0*integrate.quad(integrand, 0.0, pi_max, args=(rp[i],))[0]\n"
     ]
    }
   ],
   "source": [
    "# define projected radial bins for correlation functions\n",
    "rp = np.logspace(-1,2.2,50)\n",
    "\n",
    "xi_6 = la.ii_plus_projected(rp)\n",
    "xi_7 = nla.ii_plus_projected(rp)\n",
    "xi_8 = la.ii_cross_projected(rp)\n",
    "xi_9 = nla.ii_cross_projected(rp)"
   ]
  },
  {
   "cell_type": "code",
   "execution_count": 14,
   "metadata": {},
   "outputs": [
    {
     "data": {
      "image/png": "[encoded data removed]",
      "text/plain": [
       "<Figure size 237.6x237.6 with 1 Axes>"
      ]
     },
     "metadata": {
      "needs_background": "light"
     },
     "output_type": "display_data"
    },
    {
     "data": {
      "image/png": "[encoded data removed]",
      "text/plain": [
       "<Figure size 237.6x237.6 with 1 Axes>"
      ]
     },
     "metadata": {
      "needs_background": "light"
     },
     "output_type": "display_data"
    }
   ],
   "source": [
    "fig = plt.figure(figsize=(3.3,3.3))\n",
    "fig.subplots_adjust(left=0.2, right=0.9, bottom=0.2, top=0.9)\n",
    "l1, = plt.plot(rp, xi_6, '-', color='black')\n",
    "l2, = plt.plot(rp, xi_7, '--', color='black')\n",
    "plt.yscale('log')\n",
    "plt.xscale('log')\n",
    "plt.ylim([10**(-6),10**(-2)])\n",
    "plt.xlim([0.1,100])\n",
    "plt.xlabel(r'$r_p~[h^{-1}{\\rm Mpc}]$')\n",
    "plt.ylabel(r'$w_{++}~[h^{-1}{\\rm Mpc}]$')\n",
    "plt.legend([l1, l2],['LA', 'NLA'], frameon=False, loc='upper right', fontsize=10)\n",
    "plt.show()\n",
    "\n",
    "filename = 'nla_and_la_w_pp.pdf'\n",
    "#fig.savefig(figure_path+filename, dpi=250)\n",
    "\n",
    "fig = plt.figure(figsize=(3.3,3.3))\n",
    "fig.subplots_adjust(left=0.2, right=0.9, bottom=0.2, top=0.9)\n",
    "l1, = plt.plot(rp, xi_8, '-', color='black')\n",
    "l2, = plt.plot(rp, xi_9, '--', color='black')\n",
    "# plot the negative component\n",
    "mask = (xi_8<0.0)\n",
    "l3, = plt.plot(rp[mask], -1.0*xi_8[mask], '-', color='red')\n",
    "mask = (xi_9<0.0)\n",
    "l4, = plt.plot(rp[mask], -1.0*xi_9[mask], '--', color='red')\n",
    "plt.yscale('log')\n",
    "plt.xscale('log')\n",
    "plt.ylim([10**(-6),10**(-2)])\n",
    "plt.xlim([0.1,100])\n",
    "plt.xlabel(r'$r_p~[h^{-1}{\\rm Mpc}]$')\n",
    "plt.ylabel(r'$w_{xx}~[h^{-1}{\\rm Mpc}]$')\n",
    "plt.legend([l1, l2],['LA', 'NLA'], frameon=False, loc='upper right', fontsize=10)\n",
    "plt.show()\n",
    "\n",
    "filename = 'nla_and_la_w_cc.pdf'\n",
    "#fig.savefig(figure_path+filename, dpi=250)"
   ]
  },
  {
   "cell_type": "code",
   "execution_count": null,
   "metadata": {},
   "outputs": [],
   "source": []
  }
 ],
 "metadata": {
  "kernelspec": {
   "display_name": "Python 3",
   "language": "python",
   "name": "python3"
  },
  "language_info": {
   "codemirror_mode": {
    "name": "ipython",
    "version": 3
   },
   "file_extension": ".py",
   "mimetype": "text/x-python",
   "name": "python",
   "nbconvert_exporter": "python",
   "pygments_lexer": "ipython3",
   "version": "3.8.5"
  }
 },
 "nbformat": 4,
 "nbformat_minor": 4
}
